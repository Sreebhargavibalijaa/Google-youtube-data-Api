{
  "nbformat": 4,
  "nbformat_minor": 0,
  "metadata": {
    "colab": {
      "provenance": []
    },
    "kernelspec": {
      "name": "python3",
      "display_name": "Python 3"
    },
    "language_info": {
      "name": "python"
    }
  },
  "cells": [
    {
      "cell_type": "code",
      "source": [
        "from datetime import datetime, timedelta\n",
        "from apiclient.discovery import build\n",
        "import matplotlib.pyplot as plt\n"
      ],
      "metadata": {
        "id": "wc2MpmMXEIkG"
      },
      "execution_count": 26,
      "outputs": []
    },
    {
      "cell_type": "code",
      "source": [
        "api_key = \"^^^^^^^^^^^^^^^^^^^^^^^^\" #generated from credentials in console.developers.com\n",
        "youtube = build('youtube', 'v3', developerKey=api_key)"
      ],
      "metadata": {
        "id": "K-JSYk7GDBor"
      },
      "execution_count": 28,
      "outputs": []
    },
    {
      "cell_type": "code",
      "execution_count": 30,
      "metadata": {
        "colab": {
          "base_uri": "https://localhost:8080/"
        },
        "id": "qlp2qdQQBdRJ",
        "outputId": "f7a0fd08-a863-4643-a246-f803313f1351"
      },
      "outputs": [
        {
          "output_type": "stream",
          "name": "stdout",
          "text": [
            "1: Pros/Cons of International Placements | Downsides of 1/2 CR Packages - MUST WATCH\n",
            "2: Team Outing - Zakopane - The View from Cable Car 😍\n",
            "3: Curated Resources for Advanced DSA - MAANG or PBC Interviews\n",
            "4: Tromso, Norway | Northern Lights? | Check Description |  Heaven on Earth?\n",
            "5: Celebrated Diwali in Google Warsaw Office - Vlog\n",
            "6: Our Second Silver Play Button is here ♥️\n",
            "7: WE HEARD YOU - STRIVER's A2Z DSA Course/Sheet Massive Feature Update!\n",
            "8: Strivers A2Z DSA Course/Sheet - The Biggest Launch from TUF 🔥\n",
            "9: Ace CP using Codeforces | Ft . AIR 1 Google Kickstart | 100% Placement Opportunities\n",
            "10: 1000 Rs ka Unique Ice Cream 🤣 and 753474 sq.ft third largest CASTLE in the World | Prague, Czech\n",
            "11: A TRIP TO HEL*, GDANSK, GDYNIA | DRONE + CINEMATIC Shots\n",
            "12: MY NEW APARTMENT TOUR IN WARSAW | SHIFTING VLOG\n",
            "13: Bio Student, Tier 3, Infosys to FAANG, Juspay and Publicis | Inspiring Journey\n",
            "14: A Weekend In Warsaw Poland | Drone Shots 🔥 | Engineer's Life ❤️\n",
            "15: Why is GFG not Funded Yet? Problem of Less Attention Span | Conversation With GeeksforGeeks Founder\n",
            "16: DAY ONE AT GOOGLE WARSAW | DRONE SHOTS | OFFICE TOUR\n",
            "17: Leaving India | Entire Journey Vlog | Poland | Striver\n",
            "18: Must DO Resume Tips for Placements | Roasting Resumes In A Constructive Way\n",
            "19: Striver's SDE SHEET CHALLENGE | Best Way to Get INTERVIEW READY in 60 DAYS | 1.5L+ PRIZES 🔥\n",
            "20: WHEN DOES AMAZON, GOOGLE, MICROSOFT and OTHERS HIRE? WHAT PACKAGES DO THEY OFFER? HIRING PROCESS?\n",
            "21: 4 MISTAKES THAT I DID IN College TO LOSE OUT ON MANY OPPORTUNITIES\n",
            "22: 2 SAAL BAAD COLLEGE GAYE | DRONE SHOTS | Jalpaiguri Government Engineering College TOUR\n",
            "23: MOTIVATIONAL SESSION FOR TIER-3 COLLEGE STUDENTS | TECHNO INDIA CAMPUS\n",
            "24: 90 Days Roadmap | PLACEMENT GUARANTEED | Software Engineer | FAANG and Startups\n",
            "25: Amazon Internship Mini Vlog | 2020 | Hyderabad Campus | Work from Office | #shorts\n",
            "26: MY YOUTUBE EARNINGS in 2 YEARS | GOT AN OFFER OF 2 CRORE for CHANNEL ACQUISITION\n",
            "27: LEETCODE PROFILE REVIEWS | NEW LEETCODE UI is 🔥 @ArshGoyal\n",
            "28: Mumbai after a Decade for Seminar and Yaar ki Shaadi\n",
            "29: DO's and DONT's in LINKEDIN MESSAGES FOR REFERRALS | ROASTING Linkedin Messages\n",
            "30: Competitive Programming Sheet | Beginner to Advanced 🔥 | Codeforces and Codechef | Coding Rounds\n",
            "31: The APP THAT MANAGES MY LIFE | How I Keep Track of my EXPENSES, INCOME, YouTube Ideas | Ft. NOTION\n",
            "32: TCS-NQT Sheet | Extreme Beginners Problem Set | Work from Home Internship Opportunity 🔥\n",
            "33: New HOUSE TOUR with SWIMMING POOL of a 24 year Software Engineer\n",
            "34: Software Engineer Reviews MacBook Pro 2021 (14-inch): Pros and Cons | The ONE to BUY ?\n",
            "35: Mere YAAR Ki DESTINATION Wedding | My Pathetic Dance\n",
            "36: Mock Interview with @gkcs | Do’s and Don’ts\n",
            "37: Why GOOGLE and MICROSOFT Rejected Me SOME Years Back | DO's and DONT's AFTER REJECTION\n",
            "38: CODE QUALITY REVIEW | PEOPLE GET REJECTED HERE\n",
            "39: Competitive Programming vs Development | Discussion with @SanketSingh1\n",
            "40: From this Small Village to working at AMAZON, MEDIA.NET and Loading.. | Village Tour | First School\n",
            "41: Resume REVIEW | This is WHY it is not Shortlisted | Ep-2 | Software Engineer\n",
            "42: Trip to PURI and KONARK | RIDING this was FUN | Software Engineer VLogs\n",
            "43: WHAT IS SNACKDOWN ? RESOURCES TO FOLLOW | FREE 25 T-SHIRTS FOR YOU\n",
            "44: WEEKEND TRIP | SOFTWARE ENGINEERS ON A SMALL VACATION | WHY GOING COLLEGE IS IMPORTANT !!\n",
            "45: No CF/CC ratings = No REFERRALS !? Breaking the MYTH !\n",
            "46: 1 year EXPERIENCE at Media.net | Software Engineer | Work Culture | INCREMENT in 1 year ?\n",
            "47: Is DP series next 🤭 ? Where to learn Trees ? How to follow Tree Series ?\n",
            "48: Clarification to Sumeet Sir's Live Stream Comments on Striver and Pradeep Poonia | @Pepcoding\n",
            "49: How to start Competitive Programming ? Guide for Beginners !\n",
            "50: 5 Major MISTAKES that gets you REJECTED | Engineering Interviews\n",
            "51: Hum Chale Small Trip pe ... | Software Engineer | Burnout\n",
            "52: How Much GOOGLE Pays to a Software Engineer ? 🛑 AMAZON vs GOOGLE In-Hand Salary Comparison\n",
            "53: TIME MANAGEMENT | How does a Software Engineer finds time for Youtube\n",
            "54: 4 LAKH ki setup TOUR 😳😳 | Platform Announcement\n",
            "55: 90 Must-Do Interview Questions For Core Subjects | Why I left as an instructor at GFG\n",
            "56: How much Amazon pays to a Software Engineer (Fresher) | NOBODY tells the truth\n",
            "57: 10 Must Do Algorithms for Coding Rounds of AMAZON, MICROSOFT and Other Product Based Companies\n",
            "58: WHAT ❌NOT❌ to write in A RESUME | Software Engineering Jobs | Episode - 1\n",
            "59: STEPS to GROW CODING CULTURE in your COLLEGE 🤩 | My college STORY\n",
            "60: Logon ki zindagi bit gai BODY banane me, lekin ab pata chala ANTI-BODY banani thi 😏\n",
            "61: 🛑 Off-Campus Placement Calendar | When does Google, Amazon and Others hire ?\n",
            "62: Google | Interview Process And Strategies\n",
            "63: SWIGGY hires this boy in ONE DAY 😳 | Journey to SDE from TIER-3\n",
            "64: Bought my first HOUSE | Software Engineer | Striver\n",
            "65: Best way to Answer DSA Questions and Explain Projects | Product Based Companies\n",
            "66: Use Leetcode EFFICIENTLY | Don't Be Fooled by this Feature 🙈\n"
          ]
        }
      ],
      "source": [
        "#python code to get all videos titles of specific channel\n",
        "def videos_of_given_channel_id(channel_id):\n",
        "    \n",
        "    youtube_videos = youtube.channels().list(id=channel_id, part='contentDetails').execute()\n",
        "    playlist_id = youtube_videos['items'][0]['contentDetails']['relatedPlaylists']['uploads']\n",
        "    \n",
        "    videos = []\n",
        "    next_page_token = None\n",
        "    while True:\n",
        "        results = youtube.playlistItems().list(playlistId=playlist_id, part='snippet', maxResults=20, pageToken=next_page_token).execute()\n",
        "        videos += results['items']\n",
        "        next_page_token = results.get('nextPageToken')\n",
        "\n",
        "        if next_page_token is None:\n",
        "            break\n",
        "    \n",
        "    return videos\n",
        "videos = videos_of_given_channel_id('UCvEKHATlVq84hm1jduTYm8g')\n",
        "\n",
        "for each_video in range(len(videos)):\n",
        "  print( str(each_video+1) + \": \" + str(videos[each_video][\"snippet\"][\"title\"]))\n"
      ]
    },
    {
      "cell_type": "code",
      "source": [
        "#Histogram plot for time to the count of videos uploadment\n",
        "def channel_id(name):\n",
        "    return youtube.search().list(q=name, type='channel', part='id,snippet').execute()['items'][0]\n",
        "\n",
        "def timestamp(video):\n",
        "    return (datetime.strptime(video['snippet']['publishedAt'], \"%Y-%m-%dT%H:%M:%SZ\") + timedelta(hours=5, minutes=30))\n",
        "\n",
        "channel_id = channel_id('Striver')['id']['channelId']\n",
        "videos = videos_of_given_channel_id(channel_id)\n",
        "timestamps = [timestamp(each_video) for each_video in videos]\n",
        "publish_times = [t.hour + t.minute/60 for t in timestamps]\n",
        "plt.hist(publish_times, bins=24)\n",
        "plt.title(\"Combined Statistics\")\n",
        "plt.xlabel(\"Uploaded time\")\n",
        "plt.ylabel(\"Videos count\")\n",
        "\n",
        "plt.xticks(range(24))\n",
        "plt.show()\n"
      ],
      "metadata": {
        "colab": {
          "base_uri": "https://localhost:8080/",
          "height": 295
        },
        "id": "KWmQw6DOD1nY",
        "outputId": "3ebb6081-c94f-44c1-fca1-a29c9f3d6712"
      },
      "execution_count": 27,
      "outputs": [
        {
          "output_type": "display_data",
          "data": {
            "text/plain": [
              "<Figure size 432x288 with 1 Axes>"
            ],
            "image/png": "[encoded data removed]"
          },
          "metadata": {
            "needs_background": "light"
          }
        }
      ]
    },
    {
      "cell_type": "code",
      "source": [],
      "metadata": {
        "id": "4vHAEXY8D1kS"
      },
      "execution_count": null,
      "outputs": []
    }
  ]
}